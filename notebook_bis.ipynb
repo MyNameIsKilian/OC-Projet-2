{
 "cells": [
  {
   "cell_type": "code",
   "execution_count": 72,
   "id": "61ccd7a3",
   "metadata": {},
   "outputs": [],
   "source": [
    "import pandas as pd\n",
    "import matplotlib.pyplot as plt\n",
    "import numpy as np\n",
    "import scipy.stats as st"
   ]
  },
  {
   "cell_type": "code",
   "execution_count": 73,
   "id": "7aad8ae4",
   "metadata": {},
   "outputs": [],
   "source": [
    "data = pd.read_excel(\"/home/kilian/CSV-Excels/dataframeP2.xlsx\")\n",
    "countriesByZone = pd.read_excel(\"/home/kilian/Documents/OpenClassrooms/P2_alliot_kilian/EdStatsEXCEL.xlsx\", sheet_name=\"Country\", usecols=[\"Table Name\",\"Region\"])"
   ]
  },
  {
   "cell_type": "markdown",
   "id": "9ce1db9a",
   "metadata": {},
   "source": [
    "## Grouper par zone géographique"
   ]
  },
  {
   "cell_type": "code",
   "execution_count": 74,
   "id": "ab239028",
   "metadata": {},
   "outputs": [
    {
     "data": {
      "text/html": [
       "<div>\n",
       "<style scoped>\n",
       "    .dataframe tbody tr th:only-of-type {\n",
       "        vertical-align: middle;\n",
       "    }\n",
       "\n",
       "    .dataframe tbody tr th {\n",
       "        vertical-align: top;\n",
       "    }\n",
       "\n",
       "    .dataframe thead th {\n",
       "        text-align: right;\n",
       "    }\n",
       "</style>\n",
       "<table border=\"1\" class=\"dataframe\">\n",
       "  <thead>\n",
       "    <tr style=\"text-align: right;\">\n",
       "      <th></th>\n",
       "      <th>Table Name</th>\n",
       "      <th>Region</th>\n",
       "    </tr>\n",
       "  </thead>\n",
       "  <tbody>\n",
       "  </tbody>\n",
       "</table>\n",
       "</div>"
      ],
      "text/plain": [
       "Empty DataFrame\n",
       "Columns: [Table Name, Region]\n",
       "Index: []"
      ]
     },
     "execution_count": 74,
     "metadata": {},
     "output_type": "execute_result"
    }
   ],
   "source": [
    "countriesByZone[countriesByZone[\"Table Name\"] == \"British Virgin Islands\"]"
   ]
  },
  {
   "cell_type": "code",
   "execution_count": 75,
   "id": "c52d7f15",
   "metadata": {
    "scrolled": true
   },
   "outputs": [],
   "source": [
    "data = data[data[\"Unnamed: 0\"] != \"British Virgin Islands\"]"
   ]
  },
  {
   "cell_type": "code",
   "execution_count": 76,
   "id": "3517a5c4",
   "metadata": {},
   "outputs": [],
   "source": [
    "countriesByZone['Table Name'].replace({\"Côte d'Ivoire\": \"Cote d'Ivoire\"}, inplace=True)\n",
    "countriesByZone['Table Name'].replace({\"Curaçao\": \"Curacao\"}, inplace=True)\n",
    "countriesByZone['Table Name'].replace({\"São Tomé and Principe\": \"Sao Tome and Principe\"}, inplace=True)"
   ]
  },
  {
   "cell_type": "code",
   "execution_count": 77,
   "id": "eabb7f5c",
   "metadata": {},
   "outputs": [],
   "source": [
    "countriesByZone.sort_values(\"Table Name\", inplace=True)\n",
    "data.sort_values(\"Unnamed: 0\", inplace=True)"
   ]
  },
  {
   "cell_type": "code",
   "execution_count": 78,
   "id": "eebc5ac5",
   "metadata": {},
   "outputs": [],
   "source": [
    "regions = countriesByZone.Region.values"
   ]
  },
  {
   "cell_type": "code",
   "execution_count": 79,
   "id": "9d70fc6c",
   "metadata": {},
   "outputs": [],
   "source": [
    "data[\"Zone Géographique\"] = regions"
   ]
  },
  {
   "cell_type": "code",
   "execution_count": 80,
   "id": "15a530a3",
   "metadata": {},
   "outputs": [],
   "source": [
    "data.index = data['Unnamed: 0'].values\n",
    "data.drop(columns=['Unnamed: 0'], inplace=True)"
   ]
  },
  {
   "cell_type": "markdown",
   "id": "7dc69999",
   "metadata": {},
   "source": [
    "## Taux de completion des rows et supprimer les rows pas assez remplies (seuil 50%)"
   ]
  },
  {
   "cell_type": "code",
   "execution_count": 81,
   "id": "d60c72dd",
   "metadata": {},
   "outputs": [],
   "source": [
    "bigZones = data[data[\"Zone Géographique\"].isnull()]"
   ]
  },
  {
   "cell_type": "code",
   "execution_count": 82,
   "id": "f816b0b4",
   "metadata": {},
   "outputs": [],
   "source": [
    "def check_row_completion():    \n",
    "    full_columns = data.count(axis=1).values\n",
    "    row_completion = (full_columns * 100 / len(data.columns)).round().astype(int)\n",
    "    data[\"Completion (%)\"] = row_completion"
   ]
  },
  {
   "cell_type": "code",
   "execution_count": 83,
   "id": "853cdd03",
   "metadata": {
    "scrolled": true
   },
   "outputs": [],
   "source": [
    "check_row_completion()"
   ]
  },
  {
   "cell_type": "code",
   "execution_count": 84,
   "id": "4e6334ae",
   "metadata": {},
   "outputs": [],
   "source": [
    "data = data[data[\"Completion (%)\"] > 50]"
   ]
  },
  {
   "cell_type": "code",
   "execution_count": 85,
   "id": "cedde758",
   "metadata": {},
   "outputs": [],
   "source": [
    "data = data[~data[\"Zone Géographique\"].isnull()]"
   ]
  },
  {
   "cell_type": "markdown",
   "id": "a0156049",
   "metadata": {},
   "source": [
    "## Population 15-24 : Moyenne de la part des 15-24 dans les autres pays"
   ]
  },
  {
   "cell_type": "code",
   "execution_count": 86,
   "id": "bfa8f8a6",
   "metadata": {},
   "outputs": [],
   "source": [
    "full_15_24 = data[data[\"Population 15-24 ans\"].notnull()]\n",
    "part_of_young_people = (full_15_24[\"Population 15-24 ans\"] * 100) / full_15_24[\"Population totale\"]\n",
    "mean_part = part_of_young_people.values.mean()\n",
    "data[\"Population 15-24 ans\"].fillna(data[\"Population totale\"] * (mean_part / 100), inplace=True)"
   ]
  },
  {
   "cell_type": "markdown",
   "id": "609a6052",
   "metadata": {},
   "source": [
    "## Pour les autres indicateurs : Moyennes de la zone geographique correspondante"
   ]
  },
  {
   "cell_type": "code",
   "execution_count": 87,
   "id": "001e5c55",
   "metadata": {},
   "outputs": [
    {
     "name": "stderr",
     "output_type": "stream",
     "text": [
      "/home/kilian/anaconda3/lib/python3.9/site-packages/pandas/core/generic.py:6392: SettingWithCopyWarning: \n",
      "A value is trying to be set on a copy of a slice from a DataFrame\n",
      "\n",
      "See the caveats in the documentation: https://pandas.pydata.org/pandas-docs/stable/user_guide/indexing.html#returning-a-view-versus-a-copy\n",
      "  return self._update_inplace(result)\n"
     ]
    }
   ],
   "source": [
    "# Faire un loop loc/fill/concat dataframe\n",
    "zones = data[\"Zone Géographique\"].unique()\n",
    "loop_dataframe = pd.DataFrame()\n",
    "for zone in zones:\n",
    "    current_zone = data.loc[data[\"Zone Géographique\"] == zone]\n",
    "    current_zone.fillna(current_zone.describe().loc[\"mean\",:], inplace=True)\n",
    "    loop_dataframe = pd.concat([loop_dataframe, current_zone])"
   ]
  },
  {
   "cell_type": "code",
   "execution_count": 88,
   "id": "beda12ba",
   "metadata": {},
   "outputs": [],
   "source": [
    "data = loop_dataframe"
   ]
  },
  {
   "cell_type": "code",
   "execution_count": 89,
   "id": "15ccff99",
   "metadata": {},
   "outputs": [
    {
     "data": {
      "text/html": [
       "<div>\n",
       "<style scoped>\n",
       "    .dataframe tbody tr th:only-of-type {\n",
       "        vertical-align: middle;\n",
       "    }\n",
       "\n",
       "    .dataframe tbody tr th {\n",
       "        vertical-align: top;\n",
       "    }\n",
       "\n",
       "    .dataframe thead th {\n",
       "        text-align: right;\n",
       "    }\n",
       "</style>\n",
       "<table border=\"1\" class=\"dataframe\">\n",
       "  <thead>\n",
       "    <tr style=\"text-align: right;\">\n",
       "      <th></th>\n",
       "      <th>Population totale</th>\n",
       "      <th>Population 15-24 ans</th>\n",
       "      <th>Croissance de la population (%)</th>\n",
       "      <th>PIB (US$)</th>\n",
       "      <th>Dépenses dans l'éducation (%PIB)</th>\n",
       "      <th>Taux d'alphabétisme chez les 15-24 ans (%)</th>\n",
       "      <th>Déscolarisation des lycéens (%)</th>\n",
       "      <th>Nombre d'inscriptions au lycée</th>\n",
       "      <th>Ratio élèves/professeurs au lycée</th>\n",
       "      <th>Accès à Internet (%)</th>\n",
       "      <th>Dépenses dans les institutions secondaires et tertiaires (%PIB)</th>\n",
       "      <th>Pourcentage d'inscriptions dans des institutions privées</th>\n",
       "      <th>Professeurs dans l'éducation secondaire et tertiaire</th>\n",
       "      <th>Zone Géographique</th>\n",
       "      <th>Completion (%)</th>\n",
       "    </tr>\n",
       "  </thead>\n",
       "  <tbody>\n",
       "    <tr>\n",
       "      <th>Afghanistan</th>\n",
       "      <td>3.172728e+07</td>\n",
       "      <td>6.679801e+06</td>\n",
       "      <td>3.04</td>\n",
       "      <td>1.902638e+10</td>\n",
       "      <td>3.33</td>\n",
       "      <td>46.990000</td>\n",
       "      <td>52.030000</td>\n",
       "      <td>8.260400e+05</td>\n",
       "      <td>30.280000</td>\n",
       "      <td>6.60</td>\n",
       "      <td>0.00</td>\n",
       "      <td>11.765</td>\n",
       "      <td>7029.50</td>\n",
       "      <td>South Asia</td>\n",
       "      <td>100</td>\n",
       "    </tr>\n",
       "    <tr>\n",
       "      <th>Bangladesh</th>\n",
       "      <td>1.575596e+08</td>\n",
       "      <td>3.389908e+07</td>\n",
       "      <td>1.14</td>\n",
       "      <td>1.595204e+11</td>\n",
       "      <td>2.05</td>\n",
       "      <td>78.980000</td>\n",
       "      <td>61.030000</td>\n",
       "      <td>5.264895e+06</td>\n",
       "      <td>29.310000</td>\n",
       "      <td>9.48</td>\n",
       "      <td>1.07</td>\n",
       "      <td>69.210</td>\n",
       "      <td>265611.67</td>\n",
       "      <td>South Asia</td>\n",
       "      <td>100</td>\n",
       "    </tr>\n",
       "    <tr>\n",
       "      <th>Bhutan</th>\n",
       "      <td>7.639540e+05</td>\n",
       "      <td>1.510618e+05</td>\n",
       "      <td>1.58</td>\n",
       "      <td>1.892055e+09</td>\n",
       "      <td>5.51</td>\n",
       "      <td>87.320000</td>\n",
       "      <td>35.490000</td>\n",
       "      <td>1.608180e+04</td>\n",
       "      <td>13.090000</td>\n",
       "      <td>25.41</td>\n",
       "      <td>3.48</td>\n",
       "      <td>11.460</td>\n",
       "      <td>2225.00</td>\n",
       "      <td>South Asia</td>\n",
       "      <td>100</td>\n",
       "    </tr>\n",
       "    <tr>\n",
       "      <th>India</th>\n",
       "      <td>1.278133e+09</td>\n",
       "      <td>2.401628e+08</td>\n",
       "      <td>1.24</td>\n",
       "      <td>1.936154e+12</td>\n",
       "      <td>3.74</td>\n",
       "      <td>86.140000</td>\n",
       "      <td>47.780000</td>\n",
       "      <td>5.282696e+07</td>\n",
       "      <td>27.930000</td>\n",
       "      <td>17.40</td>\n",
       "      <td>2.59</td>\n",
       "      <td>52.570</td>\n",
       "      <td>3476942.67</td>\n",
       "      <td>South Asia</td>\n",
       "      <td>100</td>\n",
       "    </tr>\n",
       "    <tr>\n",
       "      <th>Maldives</th>\n",
       "      <td>3.928079e+05</td>\n",
       "      <td>7.393917e+04</td>\n",
       "      <td>2.12</td>\n",
       "      <td>3.353115e+09</td>\n",
       "      <td>4.45</td>\n",
       "      <td>99.270000</td>\n",
       "      <td>47.618571</td>\n",
       "      <td>9.415460e+06</td>\n",
       "      <td>24.402857</td>\n",
       "      <td>43.77</td>\n",
       "      <td>0.44</td>\n",
       "      <td>38.380</td>\n",
       "      <td>0.00</td>\n",
       "      <td>South Asia</td>\n",
       "      <td>79</td>\n",
       "    </tr>\n",
       "    <tr>\n",
       "      <th>...</th>\n",
       "      <td>...</td>\n",
       "      <td>...</td>\n",
       "      <td>...</td>\n",
       "      <td>...</td>\n",
       "      <td>...</td>\n",
       "      <td>...</td>\n",
       "      <td>...</td>\n",
       "      <td>...</td>\n",
       "      <td>...</td>\n",
       "      <td>...</td>\n",
       "      <td>...</td>\n",
       "      <td>...</td>\n",
       "      <td>...</td>\n",
       "      <td>...</td>\n",
       "      <td>...</td>\n",
       "    </tr>\n",
       "    <tr>\n",
       "      <th>Vanuatu</th>\n",
       "      <td>2.532354e+05</td>\n",
       "      <td>5.293017e+04</td>\n",
       "      <td>2.26</td>\n",
       "      <td>7.724763e+08</td>\n",
       "      <td>5.23</td>\n",
       "      <td>95.216875</td>\n",
       "      <td>23.784211</td>\n",
       "      <td>6.167000e+03</td>\n",
       "      <td>31.200000</td>\n",
       "      <td>14.89</td>\n",
       "      <td>1.60</td>\n",
       "      <td>7.610</td>\n",
       "      <td>0.00</td>\n",
       "      <td>East Asia &amp; Pacific</td>\n",
       "      <td>86</td>\n",
       "    </tr>\n",
       "    <tr>\n",
       "      <th>Vietnam</th>\n",
       "      <td>8.978640e+07</td>\n",
       "      <td>1.777147e+07</td>\n",
       "      <td>1.07</td>\n",
       "      <td>1.661764e+11</td>\n",
       "      <td>5.28</td>\n",
       "      <td>95.216875</td>\n",
       "      <td>23.784211</td>\n",
       "      <td>2.920787e+06</td>\n",
       "      <td>18.586667</td>\n",
       "      <td>38.86</td>\n",
       "      <td>3.78</td>\n",
       "      <td>14.140</td>\n",
       "      <td>83126.83</td>\n",
       "      <td>East Asia &amp; Pacific</td>\n",
       "      <td>71</td>\n",
       "    </tr>\n",
       "    <tr>\n",
       "      <th>Bermuda</th>\n",
       "      <td>6.502743e+04</td>\n",
       "      <td>1.115838e+04</td>\n",
       "      <td>-0.07</td>\n",
       "      <td>5.601608e+09</td>\n",
       "      <td>2.04</td>\n",
       "      <td>NaN</td>\n",
       "      <td>31.000000</td>\n",
       "      <td>2.234200e+03</td>\n",
       "      <td>6.050000</td>\n",
       "      <td>93.18</td>\n",
       "      <td>1.34</td>\n",
       "      <td>61.935</td>\n",
       "      <td>444.20</td>\n",
       "      <td>North America</td>\n",
       "      <td>86</td>\n",
       "    </tr>\n",
       "    <tr>\n",
       "      <th>Canada</th>\n",
       "      <td>3.513338e+07</td>\n",
       "      <td>4.452427e+06</td>\n",
       "      <td>1.09</td>\n",
       "      <td>1.706354e+12</td>\n",
       "      <td>5.32</td>\n",
       "      <td>NaN</td>\n",
       "      <td>20.170000</td>\n",
       "      <td>1.675808e+06</td>\n",
       "      <td>11.500000</td>\n",
       "      <td>85.36</td>\n",
       "      <td>2.86</td>\n",
       "      <td>7.180</td>\n",
       "      <td>147641.00</td>\n",
       "      <td>North America</td>\n",
       "      <td>86</td>\n",
       "    </tr>\n",
       "    <tr>\n",
       "      <th>United States</th>\n",
       "      <td>3.162575e+08</td>\n",
       "      <td>4.524368e+07</td>\n",
       "      <td>0.74</td>\n",
       "      <td>1.678105e+13</td>\n",
       "      <td>5.23</td>\n",
       "      <td>NaN</td>\n",
       "      <td>9.340000</td>\n",
       "      <td>1.172833e+07</td>\n",
       "      <td>14.550000</td>\n",
       "      <td>73.04</td>\n",
       "      <td>2.84</td>\n",
       "      <td>17.940</td>\n",
       "      <td>2324400.48</td>\n",
       "      <td>North America</td>\n",
       "      <td>93</td>\n",
       "    </tr>\n",
       "  </tbody>\n",
       "</table>\n",
       "<p>201 rows × 15 columns</p>\n",
       "</div>"
      ],
      "text/plain": [
       "               Population totale  Population 15-24 ans  \\\n",
       "Afghanistan         3.172728e+07          6.679801e+06   \n",
       "Bangladesh          1.575596e+08          3.389908e+07   \n",
       "Bhutan              7.639540e+05          1.510618e+05   \n",
       "India               1.278133e+09          2.401628e+08   \n",
       "Maldives            3.928079e+05          7.393917e+04   \n",
       "...                          ...                   ...   \n",
       "Vanuatu             2.532354e+05          5.293017e+04   \n",
       "Vietnam             8.978640e+07          1.777147e+07   \n",
       "Bermuda             6.502743e+04          1.115838e+04   \n",
       "Canada              3.513338e+07          4.452427e+06   \n",
       "United States       3.162575e+08          4.524368e+07   \n",
       "\n",
       "               Croissance de la population (%)     PIB (US$)  \\\n",
       "Afghanistan                               3.04  1.902638e+10   \n",
       "Bangladesh                                1.14  1.595204e+11   \n",
       "Bhutan                                    1.58  1.892055e+09   \n",
       "India                                     1.24  1.936154e+12   \n",
       "Maldives                                  2.12  3.353115e+09   \n",
       "...                                        ...           ...   \n",
       "Vanuatu                                   2.26  7.724763e+08   \n",
       "Vietnam                                   1.07  1.661764e+11   \n",
       "Bermuda                                  -0.07  5.601608e+09   \n",
       "Canada                                    1.09  1.706354e+12   \n",
       "United States                             0.74  1.678105e+13   \n",
       "\n",
       "               Dépenses dans l'éducation (%PIB)  \\\n",
       "Afghanistan                                3.33   \n",
       "Bangladesh                                 2.05   \n",
       "Bhutan                                     5.51   \n",
       "India                                      3.74   \n",
       "Maldives                                   4.45   \n",
       "...                                         ...   \n",
       "Vanuatu                                    5.23   \n",
       "Vietnam                                    5.28   \n",
       "Bermuda                                    2.04   \n",
       "Canada                                     5.32   \n",
       "United States                              5.23   \n",
       "\n",
       "               Taux d'alphabétisme chez les 15-24 ans (%)  \\\n",
       "Afghanistan                                     46.990000   \n",
       "Bangladesh                                      78.980000   \n",
       "Bhutan                                          87.320000   \n",
       "India                                           86.140000   \n",
       "Maldives                                        99.270000   \n",
       "...                                                   ...   \n",
       "Vanuatu                                         95.216875   \n",
       "Vietnam                                         95.216875   \n",
       "Bermuda                                               NaN   \n",
       "Canada                                                NaN   \n",
       "United States                                         NaN   \n",
       "\n",
       "               Déscolarisation des lycéens (%)  \\\n",
       "Afghanistan                          52.030000   \n",
       "Bangladesh                           61.030000   \n",
       "Bhutan                               35.490000   \n",
       "India                                47.780000   \n",
       "Maldives                             47.618571   \n",
       "...                                        ...   \n",
       "Vanuatu                              23.784211   \n",
       "Vietnam                              23.784211   \n",
       "Bermuda                              31.000000   \n",
       "Canada                               20.170000   \n",
       "United States                         9.340000   \n",
       "\n",
       "               Nombre d'inscriptions au lycée  \\\n",
       "Afghanistan                      8.260400e+05   \n",
       "Bangladesh                       5.264895e+06   \n",
       "Bhutan                           1.608180e+04   \n",
       "India                            5.282696e+07   \n",
       "Maldives                         9.415460e+06   \n",
       "...                                       ...   \n",
       "Vanuatu                          6.167000e+03   \n",
       "Vietnam                          2.920787e+06   \n",
       "Bermuda                          2.234200e+03   \n",
       "Canada                           1.675808e+06   \n",
       "United States                    1.172833e+07   \n",
       "\n",
       "               Ratio élèves/professeurs au lycée  Accès à Internet (%)  \\\n",
       "Afghanistan                            30.280000                  6.60   \n",
       "Bangladesh                             29.310000                  9.48   \n",
       "Bhutan                                 13.090000                 25.41   \n",
       "India                                  27.930000                 17.40   \n",
       "Maldives                               24.402857                 43.77   \n",
       "...                                          ...                   ...   \n",
       "Vanuatu                                31.200000                 14.89   \n",
       "Vietnam                                18.586667                 38.86   \n",
       "Bermuda                                 6.050000                 93.18   \n",
       "Canada                                 11.500000                 85.36   \n",
       "United States                          14.550000                 73.04   \n",
       "\n",
       "               Dépenses dans les institutions secondaires et tertiaires (%PIB)  \\\n",
       "Afghanistan                                                 0.00                 \n",
       "Bangladesh                                                  1.07                 \n",
       "Bhutan                                                      3.48                 \n",
       "India                                                       2.59                 \n",
       "Maldives                                                    0.44                 \n",
       "...                                                          ...                 \n",
       "Vanuatu                                                     1.60                 \n",
       "Vietnam                                                     3.78                 \n",
       "Bermuda                                                     1.34                 \n",
       "Canada                                                      2.86                 \n",
       "United States                                               2.84                 \n",
       "\n",
       "               Pourcentage d'inscriptions dans des institutions privées  \\\n",
       "Afghanistan                                               11.765          \n",
       "Bangladesh                                                69.210          \n",
       "Bhutan                                                    11.460          \n",
       "India                                                     52.570          \n",
       "Maldives                                                  38.380          \n",
       "...                                                          ...          \n",
       "Vanuatu                                                    7.610          \n",
       "Vietnam                                                   14.140          \n",
       "Bermuda                                                   61.935          \n",
       "Canada                                                     7.180          \n",
       "United States                                             17.940          \n",
       "\n",
       "               Professeurs dans l'éducation secondaire et tertiaire  \\\n",
       "Afghanistan                                              7029.50      \n",
       "Bangladesh                                             265611.67      \n",
       "Bhutan                                                   2225.00      \n",
       "India                                                 3476942.67      \n",
       "Maldives                                                    0.00      \n",
       "...                                                          ...      \n",
       "Vanuatu                                                     0.00      \n",
       "Vietnam                                                 83126.83      \n",
       "Bermuda                                                   444.20      \n",
       "Canada                                                 147641.00      \n",
       "United States                                         2324400.48      \n",
       "\n",
       "                 Zone Géographique  Completion (%)  \n",
       "Afghanistan             South Asia             100  \n",
       "Bangladesh              South Asia             100  \n",
       "Bhutan                  South Asia             100  \n",
       "India                   South Asia             100  \n",
       "Maldives                South Asia              79  \n",
       "...                            ...             ...  \n",
       "Vanuatu        East Asia & Pacific              86  \n",
       "Vietnam        East Asia & Pacific              71  \n",
       "Bermuda              North America              86  \n",
       "Canada               North America              86  \n",
       "United States        North America              93  \n",
       "\n",
       "[201 rows x 15 columns]"
      ]
     },
     "execution_count": 89,
     "metadata": {},
     "output_type": "execute_result"
    }
   ],
   "source": [
    "data"
   ]
  },
  {
   "cell_type": "markdown",
   "id": "19d1dbc4",
   "metadata": {},
   "source": [
    "## Rassembler des colonnes"
   ]
  },
  {
   "cell_type": "code",
   "execution_count": 90,
   "id": "337910b7",
   "metadata": {},
   "outputs": [
    {
     "data": {
      "text/plain": [
       "Index(['Population totale', 'Population 15-24 ans',\n",
       "       'Croissance de la population (%)', 'PIB (US$)',\n",
       "       'Dépenses dans l'éducation (%PIB)',\n",
       "       'Taux d'alphabétisme chez les 15-24 ans (%)',\n",
       "       'Déscolarisation des lycéens (%)', 'Nombre d'inscriptions au lycée',\n",
       "       'Ratio élèves/professeurs au lycée', 'Accès à Internet (%)',\n",
       "       'Dépenses dans les institutions secondaires et tertiaires (%PIB)',\n",
       "       'Pourcentage d'inscriptions dans des institutions privées',\n",
       "       'Professeurs dans l'éducation secondaire et tertiaire',\n",
       "       'Zone Géographique', 'Completion (%)'],\n",
       "      dtype='object')"
      ]
     },
     "execution_count": 90,
     "metadata": {},
     "output_type": "execute_result"
    }
   ],
   "source": [
    "data.columns"
   ]
  },
  {
   "cell_type": "code",
   "execution_count": 91,
   "id": "61f8942e",
   "metadata": {},
   "outputs": [],
   "source": [
    "#Canada, USa et Bermudes ont un taux d'alphabetisme à NaN : rechercher les pays ressemblants\n",
    "# data.loc[\"Bermuda\",\"Accès à Internet (%)\"]\n",
    "# data.loc[\"Bermuda\",\"Déscolarisation des lycéens (%)\"]\n",
    "# data.loc[\"Bermuda\",\"Dépenses dans l'éducation (%PIB)\"]\n",
    "# etc...\n",
    "\n",
    "canada_like = data[(data[\"Accès à Internet (%)\"].between(75,85)) & (data[\"Dépenses dans l'éducation (%PIB)\"].between(4,6)) & (data[\"Déscolarisation des lycéens (%)\"].between(5,15))]\n",
    "usa_like = data[(data[\"Accès à Internet (%)\"].between(68,78)) & (data[\"Dépenses dans l'éducation (%PIB)\"].between(4,6)) & (data[\"Déscolarisation des lycéens (%)\"].between(8,32))]\n",
    "bermuda_like = data[(data[\"Accès à Internet (%)\"].between(87,100)) & (data[\"Dépenses dans l'éducation (%PIB)\"].between(0,4)) & (data[\"Déscolarisation des lycéens (%)\"].between(10,50))]\n",
    "\n",
    "alphab_canada_like = canada_like[\"Taux d'alphabétisme chez les 15-24 ans (%)\"].mean()\n",
    "alphab_usa_like = usa_like[\"Taux d'alphabétisme chez les 15-24 ans (%)\"].mean()\n",
    "alphab_bermuda_like = bermuda_like[\"Taux d'alphabétisme chez les 15-24 ans (%)\"].mean()\n",
    "\n",
    "data.loc[\"Canada\",\"Taux d'alphabétisme chez les 15-24 ans (%)\"] = alphab_canada_like\n",
    "data.loc[\"United States\",\"Taux d'alphabétisme chez les 15-24 ans (%)\"] = alphab_usa_like\n",
    "data.loc[\"Bermuda\",\"Taux d'alphabétisme chez les 15-24 ans (%)\"] = alphab_bermuda_like"
   ]
  },
  {
   "cell_type": "code",
   "execution_count": 92,
   "id": "e489b773",
   "metadata": {},
   "outputs": [],
   "source": [
    "# print(st.pearsonr(data[\"Accès à Internet (%)\"],data[\"Déscolarisation des lycéens (%)\"])[0]) #-0.7\n",
    "# print(st.pearsonr(data[\"Professeurs dans l'éducation secondaire et tertiaire\"],data[\"Nombre d'inscriptions au lycée\"])[0]) #0.9\n",
    "# print(st.pearsonr(data[\"Déscolarisation des lycéens (%)\"],data[\"Croissance de la population (%)\"])[0]) #0.5\n",
    "# plt.plot(data[\"Déscolarisation des lycéens (%)\"], data[\"Croissance de la population (%)\"], \"o\")"
   ]
  },
  {
   "cell_type": "code",
   "execution_count": 93,
   "id": "56c479ab",
   "metadata": {},
   "outputs": [],
   "source": [
    "data[\"Dépenses dans l'éducation (M$)\"] = (data[\"PIB (US$)\"] / 10**6) * (data[\"Dépenses dans l'éducation (%PIB)\"] * 10**-2)"
   ]
  },
  {
   "cell_type": "code",
   "execution_count": 94,
   "id": "b36ca54f",
   "metadata": {},
   "outputs": [],
   "source": [
    "# Faire un point sur les indicateurs essentiels\n",
    "data.drop(columns=[\"Professeurs dans l'éducation secondaire et tertiaire\", \"Ratio élèves/professeurs au lycée\", \"Pourcentage d'inscriptions dans des institutions privées\", \"Dépenses dans les institutions secondaires et tertiaires (%PIB)\", \"PIB (US$)\", \"Dépenses dans l'éducation (%PIB)\", \"Completion (%)\", \"Zone Géographique\"], inplace=True)"
   ]
  },
  {
   "cell_type": "markdown",
   "id": "8aa5a577",
   "metadata": {},
   "source": [
    "## Analyse univariée"
   ]
  },
  {
   "cell_type": "code",
   "execution_count": 95,
   "id": "e1c70c38",
   "metadata": {},
   "outputs": [
    {
     "data": {
      "text/plain": [
       "<AxesSubplot:ylabel='Frequency'>"
      ]
     },
     "execution_count": 95,
     "metadata": {},
     "output_type": "execute_result"
    },
    {
     "data": {
      "image/png": "[encoded data removed]",
      "text/plain": [
       "<Figure size 432x288 with 1 Axes>"
      ]
     },
     "metadata": {
      "needs_background": "light"
     },
     "output_type": "display_data"
    }
   ],
   "source": [
    "np.log10(data[\"Population totale\"]).plot.hist()"
   ]
  },
  {
   "cell_type": "code",
   "execution_count": 96,
   "id": "c98d84e4",
   "metadata": {},
   "outputs": [
    {
     "data": {
      "text/plain": [
       "{'whiskers': [<matplotlib.lines.Line2D at 0x7f7dd1003070>,\n",
       "  <matplotlib.lines.Line2D at 0x7f7dd0d74970>],\n",
       " 'caps': [<matplotlib.lines.Line2D at 0x7f7dd0d74d30>,\n",
       "  <matplotlib.lines.Line2D at 0x7f7dd0d741f0>],\n",
       " 'boxes': [<matplotlib.patches.PathPatch at 0x7f7dd1003fa0>],\n",
       " 'medians': [<matplotlib.lines.Line2D at 0x7f7dd0d74760>],\n",
       " 'fliers': [<matplotlib.lines.Line2D at 0x7f7dd0e3cb50>],\n",
       " 'means': [<matplotlib.lines.Line2D at 0x7f7dd0e3c400>]}"
      ]
     },
     "execution_count": 96,
     "metadata": {},
     "output_type": "execute_result"
    },
    {
     "data": {
      "image/png": "[encoded data removed]",
      "text/plain": [
       "<Figure size 432x288 with 1 Axes>"
      ]
     },
     "metadata": {
      "needs_background": "light"
     },
     "output_type": "display_data"
    }
   ],
   "source": [
    "plt.boxplot([data[\"Population totale\"]], labels=[\"Population totale\"], medianprops = {'color':\"black\"},\n",
    "            meanprops = {'marker':'o', 'markeredgecolor':'black',\n",
    "            'markerfacecolor':'firebrick'},\n",
    "           showfliers=True, vert=False, showmeans=True, patch_artist=True)"
   ]
  },
  {
   "cell_type": "code",
   "execution_count": 97,
   "id": "22521adc",
   "metadata": {},
   "outputs": [
    {
     "name": "stdout",
     "output_type": "stream",
     "text": [
      "Distribution de la variable : Population 15-24 ans\n",
      "count    2.010000e+02\n",
      "mean     6.034479e+06\n",
      "std      2.317521e+07\n",
      "min      1.855897e+03\n",
      "25%      2.168050e+05\n",
      "50%      1.164389e+06\n",
      "75%      4.427938e+06\n",
      "max      2.401628e+08\n",
      "Name: Population 15-24 ans, dtype: float64\n"
     ]
    },
    {
     "data": {
      "image/png": "[encoded data removed]",
      "text/plain": [
       "<Figure size 432x288 with 1 Axes>"
      ]
     },
     "metadata": {
      "needs_background": "light"
     },
     "output_type": "display_data"
    },
    {
     "data": {
      "image/png": "[encoded data removed]",
      "text/plain": [
       "<Figure size 432x288 with 1 Axes>"
      ]
     },
     "metadata": {
      "needs_background": "light"
     },
     "output_type": "display_data"
    },
    {
     "name": "stdout",
     "output_type": "stream",
     "text": [
      "--------------------\n",
      "Distribution de la variable : Croissance de la population (%)\n",
      "count    201.000000\n",
      "mean       1.413632\n",
      "std        1.333529\n",
      "min       -1.740000\n",
      "25%        0.480000\n",
      "50%        1.240000\n",
      "75%        2.250000\n",
      "max        6.850000\n",
      "Name: Croissance de la population (%), dtype: float64\n"
     ]
    },
    {
     "data": {
      "image/png": "[encoded data removed]",
      "text/plain": [
       "<Figure size 432x288 with 1 Axes>"
      ]
     },
     "metadata": {
      "needs_background": "light"
     },
     "output_type": "display_data"
    },
    {
     "data": {
      "image/png": "[encoded data removed]",
      "text/plain": [
       "<Figure size 432x288 with 1 Axes>"
      ]
     },
     "metadata": {
      "needs_background": "light"
     },
     "output_type": "display_data"
    },
    {
     "name": "stdout",
     "output_type": "stream",
     "text": [
      "--------------------\n",
      "Distribution de la variable : Taux d'alphabétisme chez les 15-24 ans (%)\n",
      "count    201.000000\n",
      "mean      91.141089\n",
      "std       14.468963\n",
      "min       23.520000\n",
      "25%       88.710000\n",
      "50%       98.143636\n",
      "75%       99.460000\n",
      "max      100.000000\n",
      "Name: Taux d'alphabétisme chez les 15-24 ans (%), dtype: float64\n"
     ]
    },
    {
     "data": {
      "image/png": "[encoded data removed]",
      "text/plain": [
       "<Figure size 432x288 with 1 Axes>"
      ]
     },
     "metadata": {
      "needs_background": "light"
     },
     "output_type": "display_data"
    },
    {
     "data": {
      "image/png": "[encoded data removed]",
      "text/plain": [
       "<Figure size 432x288 with 1 Axes>"
      ]
     },
     "metadata": {
      "needs_background": "light"
     },
     "output_type": "display_data"
    },
    {
     "name": "stdout",
     "output_type": "stream",
     "text": [
      "--------------------\n",
      "Distribution de la variable : Déscolarisation des lycéens (%)\n",
      "count    201.000000\n",
      "mean      29.753879\n",
      "std       21.170667\n",
      "min        1.040000\n",
      "25%       11.317297\n",
      "50%       23.800000\n",
      "75%       47.760000\n",
      "max       91.290000\n",
      "Name: Déscolarisation des lycéens (%), dtype: float64\n"
     ]
    },
    {
     "data": {
      "image/png": "[encoded data removed]",
      "text/plain": [
       "<Figure size 432x288 with 1 Axes>"
      ]
     },
     "metadata": {
      "needs_background": "light"
     },
     "output_type": "display_data"
    },
    {
     "data": {
      "image/png": "[encoded data removed]",
      "text/plain": [
       "<Figure size 432x288 with 1 Axes>"
      ]
     },
     "metadata": {
      "needs_background": "light"
     },
     "output_type": "display_data"
    },
    {
     "name": "stdout",
     "output_type": "stream",
     "text": [
      "--------------------\n",
      "Distribution de la variable : Nombre d'inscriptions au lycée\n",
      "count    2.010000e+02\n",
      "mean     1.359879e+06\n",
      "std      5.060722e+06\n",
      "min      3.530000e+02\n",
      "25%      6.824740e+04\n",
      "50%      2.535500e+05\n",
      "75%      8.389098e+05\n",
      "max      5.282696e+07\n",
      "Name: Nombre d'inscriptions au lycée, dtype: float64\n"
     ]
    },
    {
     "data": {
      "image/png": "[encoded data removed]",
      "text/plain": [
       "<Figure size 432x288 with 1 Axes>"
      ]
     },
     "metadata": {
      "needs_background": "light"
     },
     "output_type": "display_data"
    },
    {
     "data": {
      "image/png": "[encoded data removed]",
      "text/plain": [
       "<Figure size 432x288 with 1 Axes>"
      ]
     },
     "metadata": {
      "needs_background": "light"
     },
     "output_type": "display_data"
    },
    {
     "name": "stdout",
     "output_type": "stream",
     "text": [
      "--------------------\n",
      "Distribution de la variable : Accès à Internet (%)\n",
      "count    201.000000\n",
      "mean      42.153444\n",
      "std       28.002880\n",
      "min        0.000000\n",
      "25%       15.930000\n",
      "50%       41.000000\n",
      "75%       64.810000\n",
      "max       96.510000\n",
      "Name: Accès à Internet (%), dtype: float64\n"
     ]
    },
    {
     "data": {
      "image/png": "[encoded data removed]",
      "text/plain": [
       "<Figure size 432x288 with 1 Axes>"
      ]
     },
     "metadata": {
      "needs_background": "light"
     },
     "output_type": "display_data"
    },
    {
     "data": {
      "image/png": "[encoded data removed]",
      "text/plain": [
       "<Figure size 432x288 with 1 Axes>"
      ]
     },
     "metadata": {
      "needs_background": "light"
     },
     "output_type": "display_data"
    },
    {
     "name": "stdout",
     "output_type": "stream",
     "text": [
      "--------------------\n",
      "Distribution de la variable : Dépenses dans l'éducation (M$)\n",
      "count       201.000000\n",
      "mean      18250.019472\n",
      "std       74425.341380\n",
      "min           1.799747\n",
      "25%         270.207536\n",
      "50%        1258.906536\n",
      "75%        8591.143825\n",
      "max      877649.004657\n",
      "Name: Dépenses dans l'éducation (M$), dtype: float64\n"
     ]
    },
    {
     "data": {
      "image/png": "[encoded data removed]",
      "text/plain": [
       "<Figure size 432x288 with 1 Axes>"
      ]
     },
     "metadata": {
      "needs_background": "light"
     },
     "output_type": "display_data"
    },
    {
     "data": {
      "image/png": "[encoded data removed]",
      "text/plain": [
       "<Figure size 432x288 with 1 Axes>"
      ]
     },
     "metadata": {
      "needs_background": "light"
     },
     "output_type": "display_data"
    },
    {
     "name": "stdout",
     "output_type": "stream",
     "text": [
      "--------------------\n"
     ]
    }
   ],
   "source": [
    "cols = data.columns[1:]\n",
    "\n",
    "for col in cols:\n",
    "    print(\"Distribution de la variable : \" + col)\n",
    "    print(data[col].describe())\n",
    "    plt.boxplot([data[col]], labels=[col], medianprops = {'color':\"black\"},\n",
    "            meanprops = {'marker':'o', 'markeredgecolor':'black',\n",
    "            'markerfacecolor':'firebrick'},\n",
    "           showfliers=True, vert=False, showmeans=True, patch_artist=True)\n",
    "    plt.show()\n",
    "    data[col].plot.hist()\n",
    "    plt.show()\n",
    "    print(\"-\"*20)"
   ]
  },
  {
   "cell_type": "markdown",
   "id": "8311c8e6",
   "metadata": {
    "scrolled": true
   },
   "source": [
    "## Analyse bivariée"
   ]
  },
  {
   "cell_type": "code",
   "execution_count": 98,
   "id": "a90e6be5",
   "metadata": {},
   "outputs": [],
   "source": [
    "# mettre en lien deux variables => zones d'intérets\n",
    "# nuage de points\n",
    "# confirmer les sentiments que j'ai eu lors de l'analyse univariée\n",
    "# 2,3 variables à combiner pour sortir des pays du lot\n",
    "\n",
    "# pop 15 24 et taux alphabetisme\n",
    "# descolarisation et dépenses dans l'éducation\n",
    "# nombre d'inscis au lycée et accès internet"
   ]
  },
  {
   "cell_type": "code",
   "execution_count": 109,
   "id": "3f8254f2",
   "metadata": {},
   "outputs": [
    {
     "data": {
      "image/png": "[encoded data removed]",
      "text/plain": [
       "<Figure size 432x288 with 1 Axes>"
      ]
     },
     "metadata": {
      "needs_background": "light"
     },
     "output_type": "display_data"
    }
   ],
   "source": [
    "fig = plt.figure(1)\n",
    "plt.xlabel(\"Population 15-24 ans\")\n",
    "plt.ylabel(\"Taux d'alphabétisme chez les 15-24 ans (%)\")\n",
    "plt.plot(data[\"Population 15-24 ans\"], data[\"Taux d'alphabétisme chez les 15-24 ans (%)\"], \"o\")\n",
    "plt.show()"
   ]
  },
  {
   "cell_type": "code",
   "execution_count": 110,
   "id": "f5a1610c",
   "metadata": {},
   "outputs": [
    {
     "data": {
      "image/png": "[encoded data removed]",
      "text/plain": [
       "<Figure size 432x288 with 1 Axes>"
      ]
     },
     "metadata": {
      "needs_background": "light"
     },
     "output_type": "display_data"
    }
   ],
   "source": [
    "fig = plt.figure(1)\n",
    "plt.xlabel(\"Déscolarisation des lycéens (%)\")\n",
    "plt.ylabel(\"log 10 Dépenses dans l'éducation (M$)\")\n",
    "plt.plot(data[\"Déscolarisation des lycéens (%)\"], np.log10(data[\"Dépenses dans l'éducation (M$)\"]), \"o\")\n",
    "plt.show()"
   ]
  },
  {
   "cell_type": "code",
   "execution_count": 112,
   "id": "3c778a3d",
   "metadata": {},
   "outputs": [
    {
     "data": {
      "image/png": "[encoded data removed]",
      "text/plain": [
       "<Figure size 432x288 with 1 Axes>"
      ]
     },
     "metadata": {
      "needs_background": "light"
     },
     "output_type": "display_data"
    }
   ],
   "source": [
    "fig = plt.figure(1)\n",
    "plt.xlabel(\"log 10 Nombre d'inscriptions au lycée\")\n",
    "plt.ylabel(\"Accès à Internet (%)\")\n",
    "plt.plot(np.log10(data[\"Nombre d'inscriptions au lycée\"]), data[\"Accès à Internet (%)\"], \"o\")\n",
    "plt.show()"
   ]
  },
  {
   "cell_type": "markdown",
   "id": "826545aa",
   "metadata": {},
   "source": [
    "## Scoring"
   ]
  },
  {
   "cell_type": "code",
   "execution_count": 102,
   "id": "3f1e0d8b",
   "metadata": {},
   "outputs": [],
   "source": [
    "# attribuer un score entre 0 et 1\n",
    "# la valeur du pays - min / max - min\n",
    "# ajouter croissance de la pop"
   ]
  },
  {
   "cell_type": "code",
   "execution_count": 103,
   "id": "ca68588c",
   "metadata": {},
   "outputs": [],
   "source": [
    "# \"Croissance de la population (%)\"\n",
    "cols = {\n",
    "    \"Déscolarisation des lycéens (%)\": 1.5,\n",
    "    \"Accès à Internet (%)\": 2,\n",
    "    \"Croissance de la population (%)\": 1.2,\n",
    "    \"Population 15-24 ans\": 1.2,\n",
    "    \"Taux d'alphabétisme chez les 15-24 ans (%)\": 1.7,\n",
    "    \"Nombre d'inscriptions au lycée\": 1.2,\n",
    "    \"Dépenses dans l'éducation (M$)\": 1\n",
    "};\n",
    "\n",
    "for col, coef in cols.items():\n",
    "    data[\"Points \" + col] = (data[col] - data[col].min()) / (data[col].max() - data[col].min()) * coef"
   ]
  },
  {
   "cell_type": "code",
   "execution_count": 104,
   "id": "b7a95ee4",
   "metadata": {},
   "outputs": [],
   "source": [
    "data.insert(0, \"Points totaux\", data.loc[:, \"Points Accès à Internet (%)\":].sum(axis=1) - data[\"Points Déscolarisation des lycéens (%)\"])"
   ]
  },
  {
   "cell_type": "code",
   "execution_count": 105,
   "id": "8159dd6e",
   "metadata": {},
   "outputs": [],
   "source": [
    "data.sort_values(\"Points totaux\", ascending=False, inplace=True)"
   ]
  },
  {
   "cell_type": "code",
   "execution_count": 107,
   "id": "c1f0c29f",
   "metadata": {
    "scrolled": true
   },
   "outputs": [
    {
     "data": {
      "text/html": [
       "<div>\n",
       "<style scoped>\n",
       "    .dataframe tbody tr th:only-of-type {\n",
       "        vertical-align: middle;\n",
       "    }\n",
       "\n",
       "    .dataframe tbody tr th {\n",
       "        vertical-align: top;\n",
       "    }\n",
       "\n",
       "    .dataframe thead th {\n",
       "        text-align: right;\n",
       "    }\n",
       "</style>\n",
       "<table border=\"1\" class=\"dataframe\">\n",
       "  <thead>\n",
       "    <tr style=\"text-align: right;\">\n",
       "      <th></th>\n",
       "      <th>Points totaux</th>\n",
       "      <th>Population totale</th>\n",
       "      <th>Population 15-24 ans</th>\n",
       "      <th>Croissance de la population (%)</th>\n",
       "      <th>Taux d'alphabétisme chez les 15-24 ans (%)</th>\n",
       "      <th>Déscolarisation des lycéens (%)</th>\n",
       "      <th>Nombre d'inscriptions au lycée</th>\n",
       "      <th>Accès à Internet (%)</th>\n",
       "      <th>Dépenses dans l'éducation (M$)</th>\n",
       "      <th>Points Déscolarisation des lycéens (%)</th>\n",
       "      <th>Points Accès à Internet (%)</th>\n",
       "      <th>Points Croissance de la population (%)</th>\n",
       "      <th>Points Population 15-24 ans</th>\n",
       "      <th>Points Taux d'alphabétisme chez les 15-24 ans (%)</th>\n",
       "      <th>Points Nombre d'inscriptions au lycée</th>\n",
       "      <th>Points Dépenses dans l'éducation (M$)</th>\n",
       "    </tr>\n",
       "  </thead>\n",
       "  <tbody>\n",
       "    <tr>\n",
       "      <th>China</th>\n",
       "      <td>5.130045</td>\n",
       "      <td>1.357724e+09</td>\n",
       "      <td>2.087167e+08</td>\n",
       "      <td>0.50</td>\n",
       "      <td>99.640000</td>\n",
       "      <td>23.784211</td>\n",
       "      <td>44626746.40</td>\n",
       "      <td>44.59</td>\n",
       "      <td>458568.620673</td>\n",
       "      <td>0.378020</td>\n",
       "      <td>0.924049</td>\n",
       "      <td>0.312922</td>\n",
       "      <td>1.042875</td>\n",
       "      <td>1.691998</td>\n",
       "      <td>1.013725</td>\n",
       "      <td>0.522496</td>\n",
       "    </tr>\n",
       "    <tr>\n",
       "      <th>United States</th>\n",
       "      <td>4.893352</td>\n",
       "      <td>3.162575e+08</td>\n",
       "      <td>4.524368e+07</td>\n",
       "      <td>0.74</td>\n",
       "      <td>99.044417</td>\n",
       "      <td>9.340000</td>\n",
       "      <td>11728330.80</td>\n",
       "      <td>73.04</td>\n",
       "      <td>877649.004657</td>\n",
       "      <td>0.137950</td>\n",
       "      <td>1.513626</td>\n",
       "      <td>0.346449</td>\n",
       "      <td>0.226058</td>\n",
       "      <td>1.678759</td>\n",
       "      <td>0.266411</td>\n",
       "      <td>1.000000</td>\n",
       "    </tr>\n",
       "    <tr>\n",
       "      <th>Qatar</th>\n",
       "      <td>4.451332</td>\n",
       "      <td>2.216790e+06</td>\n",
       "      <td>1.233850e+05</td>\n",
       "      <td>6.85</td>\n",
       "      <td>98.290000</td>\n",
       "      <td>7.720000</td>\n",
       "      <td>36042.20</td>\n",
       "      <td>81.61</td>\n",
       "      <td>6781.455797</td>\n",
       "      <td>0.111025</td>\n",
       "      <td>1.691224</td>\n",
       "      <td>1.200000</td>\n",
       "      <td>0.000607</td>\n",
       "      <td>1.661990</td>\n",
       "      <td>0.000811</td>\n",
       "      <td>0.007725</td>\n",
       "    </tr>\n",
       "    <tr>\n",
       "      <th>United Kingdom</th>\n",
       "      <td>4.085926</td>\n",
       "      <td>6.417615e+07</td>\n",
       "      <td>7.904708e+06</td>\n",
       "      <td>0.75</td>\n",
       "      <td>99.559615</td>\n",
       "      <td>6.900000</td>\n",
       "      <td>3325021.90</td>\n",
       "      <td>89.44</td>\n",
       "      <td>155141.306847</td>\n",
       "      <td>0.097396</td>\n",
       "      <td>1.853487</td>\n",
       "      <td>0.347846</td>\n",
       "      <td>0.039488</td>\n",
       "      <td>1.690211</td>\n",
       "      <td>0.075523</td>\n",
       "      <td>0.176768</td>\n",
       "    </tr>\n",
       "    <tr>\n",
       "      <th>Norway</th>\n",
       "      <td>3.983035</td>\n",
       "      <td>5.071329e+06</td>\n",
       "      <td>6.395098e+05</td>\n",
       "      <td>1.15</td>\n",
       "      <td>99.559615</td>\n",
       "      <td>8.910000</td>\n",
       "      <td>246213.60</td>\n",
       "      <td>95.28</td>\n",
       "      <td>32141.733950</td>\n",
       "      <td>0.130803</td>\n",
       "      <td>1.974510</td>\n",
       "      <td>0.403725</td>\n",
       "      <td>0.003186</td>\n",
       "      <td>1.690211</td>\n",
       "      <td>0.005585</td>\n",
       "      <td>0.036621</td>\n",
       "    </tr>\n",
       "    <tr>\n",
       "      <th>France</th>\n",
       "      <td>3.951482</td>\n",
       "      <td>6.598297e+07</td>\n",
       "      <td>7.582918e+06</td>\n",
       "      <td>0.48</td>\n",
       "      <td>99.559615</td>\n",
       "      <td>1.660000</td>\n",
       "      <td>2608668.40</td>\n",
       "      <td>81.79</td>\n",
       "      <td>148643.000903</td>\n",
       "      <td>0.010305</td>\n",
       "      <td>1.694954</td>\n",
       "      <td>0.310128</td>\n",
       "      <td>0.037880</td>\n",
       "      <td>1.690211</td>\n",
       "      <td>0.059250</td>\n",
       "      <td>0.169363</td>\n",
       "    </tr>\n",
       "    <tr>\n",
       "      <th>Netherlands</th>\n",
       "      <td>3.941433</td>\n",
       "      <td>1.681303e+07</td>\n",
       "      <td>2.002537e+06</td>\n",
       "      <td>0.42</td>\n",
       "      <td>99.559615</td>\n",
       "      <td>3.010000</td>\n",
       "      <td>741759.20</td>\n",
       "      <td>91.82</td>\n",
       "      <td>46141.025318</td>\n",
       "      <td>0.032742</td>\n",
       "      <td>1.902808</td>\n",
       "      <td>0.301746</td>\n",
       "      <td>0.009997</td>\n",
       "      <td>1.690211</td>\n",
       "      <td>0.016842</td>\n",
       "      <td>0.052571</td>\n",
       "    </tr>\n",
       "    <tr>\n",
       "      <th>Luxembourg</th>\n",
       "      <td>3.938397</td>\n",
       "      <td>5.440716e+05</td>\n",
       "      <td>6.316183e+04</td>\n",
       "      <td>2.26</td>\n",
       "      <td>99.559615</td>\n",
       "      <td>16.440000</td>\n",
       "      <td>22708.25</td>\n",
       "      <td>93.70</td>\n",
       "      <td>2432.988392</td>\n",
       "      <td>0.255956</td>\n",
       "      <td>1.941768</td>\n",
       "      <td>0.558789</td>\n",
       "      <td>0.000306</td>\n",
       "      <td>1.690211</td>\n",
       "      <td>0.000508</td>\n",
       "      <td>0.002770</td>\n",
       "    </tr>\n",
       "    <tr>\n",
       "      <th>Oman</th>\n",
       "      <td>3.926875</td>\n",
       "      <td>3.720050e+06</td>\n",
       "      <td>5.783662e+05</td>\n",
       "      <td>6.12</td>\n",
       "      <td>98.670000</td>\n",
       "      <td>6.120000</td>\n",
       "      <td>137439.75</td>\n",
       "      <td>59.49</td>\n",
       "      <td>3538.369276</td>\n",
       "      <td>0.084432</td>\n",
       "      <td>1.232826</td>\n",
       "      <td>1.098021</td>\n",
       "      <td>0.002881</td>\n",
       "      <td>1.670437</td>\n",
       "      <td>0.003114</td>\n",
       "      <td>0.004030</td>\n",
       "    </tr>\n",
       "    <tr>\n",
       "      <th>Japan</th>\n",
       "      <td>3.923089</td>\n",
       "      <td>1.274841e+08</td>\n",
       "      <td>1.235106e+07</td>\n",
       "      <td>-0.12</td>\n",
       "      <td>95.216875</td>\n",
       "      <td>2.970000</td>\n",
       "      <td>3673611.25</td>\n",
       "      <td>85.31</td>\n",
       "      <td>194954.093968</td>\n",
       "      <td>0.032078</td>\n",
       "      <td>1.767900</td>\n",
       "      <td>0.226310</td>\n",
       "      <td>0.061705</td>\n",
       "      <td>1.593681</td>\n",
       "      <td>0.083441</td>\n",
       "      <td>0.222131</td>\n",
       "    </tr>\n",
       "    <tr>\n",
       "      <th>Sweden</th>\n",
       "      <td>3.921218</td>\n",
       "      <td>9.620787e+06</td>\n",
       "      <td>1.191749e+06</td>\n",
       "      <td>0.90</td>\n",
       "      <td>99.559615</td>\n",
       "      <td>7.570000</td>\n",
       "      <td>434346.80</td>\n",
       "      <td>92.20</td>\n",
       "      <td>38838.587083</td>\n",
       "      <td>0.108532</td>\n",
       "      <td>1.910683</td>\n",
       "      <td>0.368801</td>\n",
       "      <td>0.005945</td>\n",
       "      <td>1.690211</td>\n",
       "      <td>0.009859</td>\n",
       "      <td>0.044251</td>\n",
       "    </tr>\n",
       "    <tr>\n",
       "      <th>India</th>\n",
       "      <td>3.874465</td>\n",
       "      <td>1.278133e+09</td>\n",
       "      <td>2.401628e+08</td>\n",
       "      <td>1.24</td>\n",
       "      <td>86.140000</td>\n",
       "      <td>47.780000</td>\n",
       "      <td>52826961.00</td>\n",
       "      <td>17.40</td>\n",
       "      <td>72412.161479</td>\n",
       "      <td>0.776842</td>\n",
       "      <td>0.360584</td>\n",
       "      <td>0.416298</td>\n",
       "      <td>1.200000</td>\n",
       "      <td>1.391919</td>\n",
       "      <td>1.200000</td>\n",
       "      <td>0.082505</td>\n",
       "    </tr>\n",
       "    <tr>\n",
       "      <th>Germany</th>\n",
       "      <td>3.843889</td>\n",
       "      <td>8.120859e+07</td>\n",
       "      <td>9.036869e+06</td>\n",
       "      <td>0.13</td>\n",
       "      <td>99.559615</td>\n",
       "      <td>11.317297</td>\n",
       "      <td>2654708.90</td>\n",
       "      <td>84.75</td>\n",
       "      <td>176867.350310</td>\n",
       "      <td>0.170814</td>\n",
       "      <td>1.756295</td>\n",
       "      <td>0.261234</td>\n",
       "      <td>0.045145</td>\n",
       "      <td>1.690211</td>\n",
       "      <td>0.060296</td>\n",
       "      <td>0.201522</td>\n",
       "    </tr>\n",
       "    <tr>\n",
       "      <th>Denmark</th>\n",
       "      <td>3.822082</td>\n",
       "      <td>5.626119e+06</td>\n",
       "      <td>6.943373e+05</td>\n",
       "      <td>0.53</td>\n",
       "      <td>99.559615</td>\n",
       "      <td>10.930000</td>\n",
       "      <td>286436.00</td>\n",
       "      <td>93.53</td>\n",
       "      <td>27148.325926</td>\n",
       "      <td>0.164377</td>\n",
       "      <td>1.938245</td>\n",
       "      <td>0.317113</td>\n",
       "      <td>0.003460</td>\n",
       "      <td>1.690211</td>\n",
       "      <td>0.006499</td>\n",
       "      <td>0.030931</td>\n",
       "    </tr>\n",
       "    <tr>\n",
       "      <th>Belgium</th>\n",
       "      <td>3.795289</td>\n",
       "      <td>1.115512e+07</td>\n",
       "      <td>1.254599e+06</td>\n",
       "      <td>0.71</td>\n",
       "      <td>99.559615</td>\n",
       "      <td>1.040000</td>\n",
       "      <td>622162.80</td>\n",
       "      <td>82.30</td>\n",
       "      <td>32397.459415</td>\n",
       "      <td>0.000000</td>\n",
       "      <td>1.705523</td>\n",
       "      <td>0.342258</td>\n",
       "      <td>0.006260</td>\n",
       "      <td>1.690211</td>\n",
       "      <td>0.014125</td>\n",
       "      <td>0.036912</td>\n",
       "    </tr>\n",
       "  </tbody>\n",
       "</table>\n",
       "</div>"
      ],
      "text/plain": [
       "                Points totaux  Population totale  Population 15-24 ans  \\\n",
       "China                5.130045       1.357724e+09          2.087167e+08   \n",
       "United States        4.893352       3.162575e+08          4.524368e+07   \n",
       "Qatar                4.451332       2.216790e+06          1.233850e+05   \n",
       "United Kingdom       4.085926       6.417615e+07          7.904708e+06   \n",
       "Norway               3.983035       5.071329e+06          6.395098e+05   \n",
       "France               3.951482       6.598297e+07          7.582918e+06   \n",
       "Netherlands          3.941433       1.681303e+07          2.002537e+06   \n",
       "Luxembourg           3.938397       5.440716e+05          6.316183e+04   \n",
       "Oman                 3.926875       3.720050e+06          5.783662e+05   \n",
       "Japan                3.923089       1.274841e+08          1.235106e+07   \n",
       "Sweden               3.921218       9.620787e+06          1.191749e+06   \n",
       "India                3.874465       1.278133e+09          2.401628e+08   \n",
       "Germany              3.843889       8.120859e+07          9.036869e+06   \n",
       "Denmark              3.822082       5.626119e+06          6.943373e+05   \n",
       "Belgium              3.795289       1.115512e+07          1.254599e+06   \n",
       "\n",
       "                Croissance de la population (%)  \\\n",
       "China                                      0.50   \n",
       "United States                              0.74   \n",
       "Qatar                                      6.85   \n",
       "United Kingdom                             0.75   \n",
       "Norway                                     1.15   \n",
       "France                                     0.48   \n",
       "Netherlands                                0.42   \n",
       "Luxembourg                                 2.26   \n",
       "Oman                                       6.12   \n",
       "Japan                                     -0.12   \n",
       "Sweden                                     0.90   \n",
       "India                                      1.24   \n",
       "Germany                                    0.13   \n",
       "Denmark                                    0.53   \n",
       "Belgium                                    0.71   \n",
       "\n",
       "                Taux d'alphabétisme chez les 15-24 ans (%)  \\\n",
       "China                                            99.640000   \n",
       "United States                                    99.044417   \n",
       "Qatar                                            98.290000   \n",
       "United Kingdom                                   99.559615   \n",
       "Norway                                           99.559615   \n",
       "France                                           99.559615   \n",
       "Netherlands                                      99.559615   \n",
       "Luxembourg                                       99.559615   \n",
       "Oman                                             98.670000   \n",
       "Japan                                            95.216875   \n",
       "Sweden                                           99.559615   \n",
       "India                                            86.140000   \n",
       "Germany                                          99.559615   \n",
       "Denmark                                          99.559615   \n",
       "Belgium                                          99.559615   \n",
       "\n",
       "                Déscolarisation des lycéens (%)  \\\n",
       "China                                 23.784211   \n",
       "United States                          9.340000   \n",
       "Qatar                                  7.720000   \n",
       "United Kingdom                         6.900000   \n",
       "Norway                                 8.910000   \n",
       "France                                 1.660000   \n",
       "Netherlands                            3.010000   \n",
       "Luxembourg                            16.440000   \n",
       "Oman                                   6.120000   \n",
       "Japan                                  2.970000   \n",
       "Sweden                                 7.570000   \n",
       "India                                 47.780000   \n",
       "Germany                               11.317297   \n",
       "Denmark                               10.930000   \n",
       "Belgium                                1.040000   \n",
       "\n",
       "                Nombre d'inscriptions au lycée  Accès à Internet (%)  \\\n",
       "China                              44626746.40                 44.59   \n",
       "United States                      11728330.80                 73.04   \n",
       "Qatar                                 36042.20                 81.61   \n",
       "United Kingdom                      3325021.90                 89.44   \n",
       "Norway                               246213.60                 95.28   \n",
       "France                              2608668.40                 81.79   \n",
       "Netherlands                          741759.20                 91.82   \n",
       "Luxembourg                            22708.25                 93.70   \n",
       "Oman                                 137439.75                 59.49   \n",
       "Japan                               3673611.25                 85.31   \n",
       "Sweden                               434346.80                 92.20   \n",
       "India                              52826961.00                 17.40   \n",
       "Germany                             2654708.90                 84.75   \n",
       "Denmark                              286436.00                 93.53   \n",
       "Belgium                              622162.80                 82.30   \n",
       "\n",
       "                Dépenses dans l'éducation (M$)  \\\n",
       "China                            458568.620673   \n",
       "United States                    877649.004657   \n",
       "Qatar                              6781.455797   \n",
       "United Kingdom                   155141.306847   \n",
       "Norway                            32141.733950   \n",
       "France                           148643.000903   \n",
       "Netherlands                       46141.025318   \n",
       "Luxembourg                         2432.988392   \n",
       "Oman                               3538.369276   \n",
       "Japan                            194954.093968   \n",
       "Sweden                            38838.587083   \n",
       "India                             72412.161479   \n",
       "Germany                          176867.350310   \n",
       "Denmark                           27148.325926   \n",
       "Belgium                           32397.459415   \n",
       "\n",
       "                Points Déscolarisation des lycéens (%)  \\\n",
       "China                                         0.378020   \n",
       "United States                                 0.137950   \n",
       "Qatar                                         0.111025   \n",
       "United Kingdom                                0.097396   \n",
       "Norway                                        0.130803   \n",
       "France                                        0.010305   \n",
       "Netherlands                                   0.032742   \n",
       "Luxembourg                                    0.255956   \n",
       "Oman                                          0.084432   \n",
       "Japan                                         0.032078   \n",
       "Sweden                                        0.108532   \n",
       "India                                         0.776842   \n",
       "Germany                                       0.170814   \n",
       "Denmark                                       0.164377   \n",
       "Belgium                                       0.000000   \n",
       "\n",
       "                Points Accès à Internet (%)  \\\n",
       "China                              0.924049   \n",
       "United States                      1.513626   \n",
       "Qatar                              1.691224   \n",
       "United Kingdom                     1.853487   \n",
       "Norway                             1.974510   \n",
       "France                             1.694954   \n",
       "Netherlands                        1.902808   \n",
       "Luxembourg                         1.941768   \n",
       "Oman                               1.232826   \n",
       "Japan                              1.767900   \n",
       "Sweden                             1.910683   \n",
       "India                              0.360584   \n",
       "Germany                            1.756295   \n",
       "Denmark                            1.938245   \n",
       "Belgium                            1.705523   \n",
       "\n",
       "                Points Croissance de la population (%)  \\\n",
       "China                                         0.312922   \n",
       "United States                                 0.346449   \n",
       "Qatar                                         1.200000   \n",
       "United Kingdom                                0.347846   \n",
       "Norway                                        0.403725   \n",
       "France                                        0.310128   \n",
       "Netherlands                                   0.301746   \n",
       "Luxembourg                                    0.558789   \n",
       "Oman                                          1.098021   \n",
       "Japan                                         0.226310   \n",
       "Sweden                                        0.368801   \n",
       "India                                         0.416298   \n",
       "Germany                                       0.261234   \n",
       "Denmark                                       0.317113   \n",
       "Belgium                                       0.342258   \n",
       "\n",
       "                Points Population 15-24 ans  \\\n",
       "China                              1.042875   \n",
       "United States                      0.226058   \n",
       "Qatar                              0.000607   \n",
       "United Kingdom                     0.039488   \n",
       "Norway                             0.003186   \n",
       "France                             0.037880   \n",
       "Netherlands                        0.009997   \n",
       "Luxembourg                         0.000306   \n",
       "Oman                               0.002881   \n",
       "Japan                              0.061705   \n",
       "Sweden                             0.005945   \n",
       "India                              1.200000   \n",
       "Germany                            0.045145   \n",
       "Denmark                            0.003460   \n",
       "Belgium                            0.006260   \n",
       "\n",
       "                Points Taux d'alphabétisme chez les 15-24 ans (%)  \\\n",
       "China                                                    1.691998   \n",
       "United States                                            1.678759   \n",
       "Qatar                                                    1.661990   \n",
       "United Kingdom                                           1.690211   \n",
       "Norway                                                   1.690211   \n",
       "France                                                   1.690211   \n",
       "Netherlands                                              1.690211   \n",
       "Luxembourg                                               1.690211   \n",
       "Oman                                                     1.670437   \n",
       "Japan                                                    1.593681   \n",
       "Sweden                                                   1.690211   \n",
       "India                                                    1.391919   \n",
       "Germany                                                  1.690211   \n",
       "Denmark                                                  1.690211   \n",
       "Belgium                                                  1.690211   \n",
       "\n",
       "                Points Nombre d'inscriptions au lycée  \\\n",
       "China                                        1.013725   \n",
       "United States                                0.266411   \n",
       "Qatar                                        0.000811   \n",
       "United Kingdom                               0.075523   \n",
       "Norway                                       0.005585   \n",
       "France                                       0.059250   \n",
       "Netherlands                                  0.016842   \n",
       "Luxembourg                                   0.000508   \n",
       "Oman                                         0.003114   \n",
       "Japan                                        0.083441   \n",
       "Sweden                                       0.009859   \n",
       "India                                        1.200000   \n",
       "Germany                                      0.060296   \n",
       "Denmark                                      0.006499   \n",
       "Belgium                                      0.014125   \n",
       "\n",
       "                Points Dépenses dans l'éducation (M$)  \n",
       "China                                        0.522496  \n",
       "United States                                1.000000  \n",
       "Qatar                                        0.007725  \n",
       "United Kingdom                               0.176768  \n",
       "Norway                                       0.036621  \n",
       "France                                       0.169363  \n",
       "Netherlands                                  0.052571  \n",
       "Luxembourg                                   0.002770  \n",
       "Oman                                         0.004030  \n",
       "Japan                                        0.222131  \n",
       "Sweden                                       0.044251  \n",
       "India                                        0.082505  \n",
       "Germany                                      0.201522  \n",
       "Denmark                                      0.030931  \n",
       "Belgium                                      0.036912  "
      ]
     },
     "execution_count": 107,
     "metadata": {},
     "output_type": "execute_result"
    }
   ],
   "source": [
    "data.head(15)"
   ]
  }
 ],
 "metadata": {
  "kernelspec": {
   "display_name": "Python 3 (ipykernel)",
   "language": "python",
   "name": "python3"
  },
  "language_info": {
   "codemirror_mode": {
    "name": "ipython",
    "version": 3
   },
   "file_extension": ".py",
   "mimetype": "text/x-python",
   "name": "python",
   "nbconvert_exporter": "python",
   "pygments_lexer": "ipython3",
   "version": "3.9.7"
  }
 },
 "nbformat": 4,
 "nbformat_minor": 5
}
